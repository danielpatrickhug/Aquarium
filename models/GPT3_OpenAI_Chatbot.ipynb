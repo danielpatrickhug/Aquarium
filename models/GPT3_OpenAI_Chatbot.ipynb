{
  "nbformat": 4,
  "nbformat_minor": 5,
  "metadata": {
    "kernelspec": {
      "display_name": "Python 3",
      "language": "python",
      "name": "python3"
    },
    "language_info": {
      "codemirror_mode": {
        "name": "ipython",
        "version": 3
      },
      "file_extension": ".py",
      "mimetype": "text/x-python",
      "name": "python",
      "nbconvert_exporter": "python",
      "pygments_lexer": "ipython3",
      "version": "3.9.1"
    },
    "colab": {
      "name": "GPT3_OpenAI_Chatbot.ipynb",
      "provenance": [],
      "include_colab_link": true
    }
  },
  "cells": [
    {
      "cell_type": "markdown",
      "metadata": {
        "id": "view-in-github",
        "colab_type": "text"
      },
      "source": [
        "<a href=\"https://colab.research.google.com/github/danielpatrickhug/Aquarium/blob/main/GPT3_OpenAI_Chatbot.ipynb\" target=\"_parent\"><img src=\"https://colab.research.google.com/assets/colab-badge.svg\" alt=\"Open In Colab\"/></a>"
      ]
    },
    {
      "cell_type": "code",
      "metadata": {
        "id": "d09290f1"
      },
      "source": [
        "%%capture\n",
        "!pip install openai\n",
        "OPENAI_API_KEY=\"INSERT_KEY\""
      ],
      "id": "d09290f1",
      "execution_count": 18,
      "outputs": []
    },
    {
      "cell_type": "code",
      "metadata": {
        "id": "3e16c4b8"
      },
      "source": [
        "import os\n",
        "import openai"
      ],
      "id": "3e16c4b8",
      "execution_count": 8,
      "outputs": []
    },
    {
      "cell_type": "code",
      "metadata": {
        "id": "684579e5"
      },
      "source": [
        "openai.api_key = OPENAI_API_KEY\n",
        "completion = openai.Completion()"
      ],
      "id": "684579e5",
      "execution_count": 9,
      "outputs": []
    },
    {
      "cell_type": "code",
      "metadata": {
        "id": "de679c56"
      },
      "source": [
        "chat_log = '''Human: Hello, who are you?\n",
        "AI: I am doing great. How can I help you today?\n",
        "'''"
      ],
      "id": "de679c56",
      "execution_count": 10,
      "outputs": []
    },
    {
      "cell_type": "code",
      "metadata": {
        "id": "WitudN4myphA"
      },
      "source": [
        "def ask(question, chat_log=None):\n",
        "    if chat_log is None:\n",
        "        chat_log = start_chat_log\n",
        "    prompt = f'{chat_log}Human: {question}\\nAI:'\n",
        "    response = completion.create(\n",
        "        prompt=prompt, engine=\"davinci\", stop=['\\nHuman'], temperature=0.9,\n",
        "        top_p=1, frequency_penalty=0, presence_penalty=0.6, best_of=1,\n",
        "        max_tokens=150)\n",
        "    answer = response.choices[0].text.strip()\n",
        "    return answer\n",
        "\n",
        "def append_to_chat_log(question, answer, chat_log=None):\n",
        "    if chat_log is None:\n",
        "        chat_log = start_chat_log\n",
        "    return f'{chat_log}Human: {question}\\nAI: {answer}\\n'"
      ],
      "id": "WitudN4myphA",
      "execution_count": 11,
      "outputs": []
    },
    {
      "cell_type": "code",
      "metadata": {
        "colab": {
          "base_uri": "https://localhost:8080/"
        },
        "id": "_7fRPhb2z7jS",
        "outputId": "e3de2dfb-e55c-4a9f-9f92-c6d5c13adaa2"
      },
      "source": [
        "for i in range(5):\n",
        "    question = input()\n",
        "    answer = ask(question, chat_log)\n",
        "    print(answer)\n",
        "    chat_log = append_to_chat_log(question, answer, chat_log)"
      ],
      "id": "_7fRPhb2z7jS",
      "execution_count": 17,
      "outputs": [
        {
          "output_type": "stream",
          "text": [
            "How is your day going?\n",
            "I love my day. How about yours?\n",
            "Not too bad, Building an Aquarium\n",
            "Oh, I love fish.\n",
            "What type of fish are you?\n",
            "I am a fish.\n",
            "What species?\n",
            "I am a peacock bass.\n",
            "cool\n",
            "Thanks.\n"
          ],
          "name": "stdout"
        }
      ]
    }
  ]
}